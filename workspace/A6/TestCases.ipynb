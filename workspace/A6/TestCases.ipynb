{
 "cells": [
  {
   "cell_type": "code",
   "execution_count": 5,
   "metadata": {},
   "outputs": [],
   "source": [
    "import loadTestCases\n",
    "from A6Part1 import estimateF0\n",
    "from A6Part2 import segmentStableNotesRegions\n",
    "from A6Part3 import estimateInharmonicity"
   ]
  },
  {
   "cell_type": "code",
   "execution_count": 6,
   "metadata": {},
   "outputs": [
    {
     "ename": "AttributeError",
     "evalue": "module 'utilFunctions_C' has no attribute 'twm'",
     "output_type": "error",
     "traceback": [
      "\u001b[1;31m---------------------------------------------------------------------------\u001b[0m",
      "\u001b[1;31mAttributeError\u001b[0m                            Traceback (most recent call last)",
      "\u001b[1;32m<ipython-input-6-4b7cd603bdf7>\u001b[0m in \u001b[0;36m<module>\u001b[1;34m\u001b[0m\n\u001b[0;32m      3\u001b[0m \u001b[0mtestcase3\u001b[0m \u001b[1;33m=\u001b[0m \u001b[0mloadTestCases\u001b[0m\u001b[1;33m.\u001b[0m\u001b[0mload\u001b[0m\u001b[1;33m(\u001b[0m\u001b[1;36m2\u001b[0m\u001b[1;33m,\u001b[0m \u001b[1;36m3\u001b[0m\u001b[1;33m)\u001b[0m\u001b[1;33m\u001b[0m\u001b[1;33m\u001b[0m\u001b[0m\n\u001b[0;32m      4\u001b[0m \u001b[1;33m\u001b[0m\u001b[0m\n\u001b[1;32m----> 5\u001b[1;33m \u001b[0mout1\u001b[0m \u001b[1;33m=\u001b[0m \u001b[0msegmentStableNotesRegions\u001b[0m\u001b[1;33m(\u001b[0m\u001b[1;33m**\u001b[0m\u001b[0mtestcase1\u001b[0m\u001b[1;33m[\u001b[0m\u001b[1;34m'input'\u001b[0m\u001b[1;33m]\u001b[0m\u001b[1;33m)\u001b[0m\u001b[1;33m\u001b[0m\u001b[1;33m\u001b[0m\u001b[0m\n\u001b[0m\u001b[0;32m      6\u001b[0m \u001b[0mout2\u001b[0m \u001b[1;33m=\u001b[0m \u001b[0msegmentStableNotesRegions\u001b[0m\u001b[1;33m(\u001b[0m\u001b[1;33m**\u001b[0m\u001b[0mtestcase2\u001b[0m\u001b[1;33m[\u001b[0m\u001b[1;34m'input'\u001b[0m\u001b[1;33m]\u001b[0m\u001b[1;33m)\u001b[0m\u001b[1;33m\u001b[0m\u001b[1;33m\u001b[0m\u001b[0m\n\u001b[0;32m      7\u001b[0m \u001b[0mout3\u001b[0m \u001b[1;33m=\u001b[0m \u001b[0msegmentStableNotesRegions\u001b[0m\u001b[1;33m(\u001b[0m\u001b[1;33m**\u001b[0m\u001b[0mtestcase3\u001b[0m\u001b[1;33m[\u001b[0m\u001b[1;34m'input'\u001b[0m\u001b[1;33m]\u001b[0m\u001b[1;33m)\u001b[0m\u001b[1;33m\u001b[0m\u001b[1;33m\u001b[0m\u001b[0m\n",
      "\u001b[1;32m~\\Documents\\Cursos\\sms-tools\\workspace\\A6\\A6Part2.py\u001b[0m in \u001b[0;36msegmentStableNotesRegions\u001b[1;34m(inputFile, stdThsld, minNoteDur, winStable, window, M, N, H, f0et, t, minf0, maxf0)\u001b[0m\n\u001b[0;32m     97\u001b[0m     \u001b[0mfs\u001b[0m\u001b[1;33m,\u001b[0m \u001b[0mx\u001b[0m \u001b[1;33m=\u001b[0m \u001b[0mUF\u001b[0m\u001b[1;33m.\u001b[0m\u001b[0mwavread\u001b[0m\u001b[1;33m(\u001b[0m\u001b[0minputFile\u001b[0m\u001b[1;33m)\u001b[0m                               \u001b[1;31m#reading inputFile\u001b[0m\u001b[1;33m\u001b[0m\u001b[1;33m\u001b[0m\u001b[0m\n\u001b[0;32m     98\u001b[0m     \u001b[0mw\u001b[0m  \u001b[1;33m=\u001b[0m \u001b[0mget_window\u001b[0m\u001b[1;33m(\u001b[0m\u001b[0mwindow\u001b[0m\u001b[1;33m,\u001b[0m \u001b[0mM\u001b[0m\u001b[1;33m)\u001b[0m                                  \u001b[1;31m#obtaining analysis window\u001b[0m\u001b[1;33m\u001b[0m\u001b[1;33m\u001b[0m\u001b[0m\n\u001b[1;32m---> 99\u001b[1;33m     \u001b[0mf0\u001b[0m \u001b[1;33m=\u001b[0m \u001b[0mHM\u001b[0m\u001b[1;33m.\u001b[0m\u001b[0mf0Detection\u001b[0m\u001b[1;33m(\u001b[0m\u001b[0mx\u001b[0m\u001b[1;33m,\u001b[0m \u001b[0mfs\u001b[0m\u001b[1;33m,\u001b[0m \u001b[0mw\u001b[0m\u001b[1;33m,\u001b[0m \u001b[0mN\u001b[0m\u001b[1;33m,\u001b[0m \u001b[0mH\u001b[0m\u001b[1;33m,\u001b[0m \u001b[0mt\u001b[0m\u001b[1;33m,\u001b[0m \u001b[0mminf0\u001b[0m\u001b[1;33m,\u001b[0m \u001b[0mmaxf0\u001b[0m\u001b[1;33m,\u001b[0m \u001b[0mf0et\u001b[0m\u001b[1;33m)\u001b[0m  \u001b[1;31m#estimating F0\u001b[0m\u001b[1;33m\u001b[0m\u001b[1;33m\u001b[0m\u001b[0m\n\u001b[0m\u001b[0;32m    100\u001b[0m \u001b[1;33m\u001b[0m\u001b[0m\n\u001b[0;32m    101\u001b[0m     \u001b[1;31m### your code here\u001b[0m\u001b[1;33m\u001b[0m\u001b[1;33m\u001b[0m\u001b[1;33m\u001b[0m\u001b[0m\n",
      "\u001b[1;32m~\\Documents\\Cursos\\sms-tools\\workspace\\A6\\../../software/models\\harmonicModel.py\u001b[0m in \u001b[0;36mf0Detection\u001b[1;34m(x, fs, w, N, H, t, minf0, maxf0, f0et)\u001b[0m\n\u001b[0;32m     46\u001b[0m                 \u001b[0miploc\u001b[0m\u001b[1;33m,\u001b[0m \u001b[0mipmag\u001b[0m\u001b[1;33m,\u001b[0m \u001b[0mipphase\u001b[0m \u001b[1;33m=\u001b[0m \u001b[0mUF\u001b[0m\u001b[1;33m.\u001b[0m\u001b[0mpeakInterp\u001b[0m\u001b[1;33m(\u001b[0m\u001b[0mmX\u001b[0m\u001b[1;33m,\u001b[0m \u001b[0mpX\u001b[0m\u001b[1;33m,\u001b[0m \u001b[0mploc\u001b[0m\u001b[1;33m)\u001b[0m      \u001b[1;31m# refine peak values\u001b[0m\u001b[1;33m\u001b[0m\u001b[1;33m\u001b[0m\u001b[0m\n\u001b[0;32m     47\u001b[0m                 \u001b[0mipfreq\u001b[0m \u001b[1;33m=\u001b[0m \u001b[0mfs\u001b[0m \u001b[1;33m*\u001b[0m \u001b[0miploc\u001b[0m\u001b[1;33m/\u001b[0m\u001b[0mN\u001b[0m                                    \u001b[1;31m# convert locations to Hez\u001b[0m\u001b[1;33m\u001b[0m\u001b[1;33m\u001b[0m\u001b[0m\n\u001b[1;32m---> 48\u001b[1;33m                 \u001b[0mf0t\u001b[0m \u001b[1;33m=\u001b[0m \u001b[0mUF\u001b[0m\u001b[1;33m.\u001b[0m\u001b[0mf0Twm\u001b[0m\u001b[1;33m(\u001b[0m\u001b[0mipfreq\u001b[0m\u001b[1;33m,\u001b[0m \u001b[0mipmag\u001b[0m\u001b[1;33m,\u001b[0m \u001b[0mf0et\u001b[0m\u001b[1;33m,\u001b[0m \u001b[0mminf0\u001b[0m\u001b[1;33m,\u001b[0m \u001b[0mmaxf0\u001b[0m\u001b[1;33m,\u001b[0m \u001b[0mf0stable\u001b[0m\u001b[1;33m)\u001b[0m  \u001b[1;31m# find f0\u001b[0m\u001b[1;33m\u001b[0m\u001b[1;33m\u001b[0m\u001b[0m\n\u001b[0m\u001b[0;32m     49\u001b[0m                 \u001b[1;32mif\u001b[0m \u001b[1;33m(\u001b[0m\u001b[1;33m(\u001b[0m\u001b[0mf0stable\u001b[0m\u001b[1;33m==\u001b[0m\u001b[1;36m0\u001b[0m\u001b[1;33m)\u001b[0m\u001b[1;33m&\u001b[0m\u001b[1;33m(\u001b[0m\u001b[0mf0t\u001b[0m\u001b[1;33m>\u001b[0m\u001b[1;36m0\u001b[0m\u001b[1;33m)\u001b[0m\u001b[1;33m)\u001b[0m\u001b[0;31m \u001b[0m\u001b[0;31m\\\u001b[0m\u001b[1;33m\u001b[0m\u001b[1;33m\u001b[0m\u001b[0m\n\u001b[0;32m     50\u001b[0m                                 \u001b[1;32mor\u001b[0m \u001b[1;33m(\u001b[0m\u001b[1;33m(\u001b[0m\u001b[0mf0stable\u001b[0m\u001b[1;33m>\u001b[0m\u001b[1;36m0\u001b[0m\u001b[1;33m)\u001b[0m\u001b[1;33m&\u001b[0m\u001b[1;33m(\u001b[0m\u001b[0mnp\u001b[0m\u001b[1;33m.\u001b[0m\u001b[0mabs\u001b[0m\u001b[1;33m(\u001b[0m\u001b[0mf0stable\u001b[0m\u001b[1;33m-\u001b[0m\u001b[0mf0t\u001b[0m\u001b[1;33m)\u001b[0m\u001b[1;33m<\u001b[0m\u001b[0mf0stable\u001b[0m\u001b[1;33m/\u001b[0m\u001b[1;36m5.0\u001b[0m\u001b[1;33m)\u001b[0m\u001b[1;33m)\u001b[0m\u001b[1;33m:\u001b[0m\u001b[1;33m\u001b[0m\u001b[1;33m\u001b[0m\u001b[0m\n",
      "\u001b[1;32m~\\Documents\\Cursos\\sms-tools\\workspace\\A6\\../../software/models\\utilFunctions.py\u001b[0m in \u001b[0;36mf0Twm\u001b[1;34m(pfreq, pmag, ef0max, minf0, maxf0, f0t)\u001b[0m\n\u001b[0;32m    291\u001b[0m                 \u001b[1;32mreturn\u001b[0m \u001b[1;36m0\u001b[0m\u001b[1;33m\u001b[0m\u001b[1;33m\u001b[0m\u001b[0m\n\u001b[0;32m    292\u001b[0m \u001b[1;33m\u001b[0m\u001b[0m\n\u001b[1;32m--> 293\u001b[1;33m         \u001b[0mf0\u001b[0m\u001b[1;33m,\u001b[0m \u001b[0mf0error\u001b[0m \u001b[1;33m=\u001b[0m \u001b[0mUF_C\u001b[0m\u001b[1;33m.\u001b[0m\u001b[0mtwm\u001b[0m\u001b[1;33m(\u001b[0m\u001b[0mpfreq\u001b[0m\u001b[1;33m,\u001b[0m \u001b[0mpmag\u001b[0m\u001b[1;33m,\u001b[0m \u001b[0mf0cf\u001b[0m\u001b[1;33m)\u001b[0m        \u001b[1;31m# call the TWM function with peak candidates\u001b[0m\u001b[1;33m\u001b[0m\u001b[1;33m\u001b[0m\u001b[0m\n\u001b[0m\u001b[0;32m    294\u001b[0m \u001b[1;33m\u001b[0m\u001b[0m\n\u001b[0;32m    295\u001b[0m         \u001b[1;32mif\u001b[0m \u001b[1;33m(\u001b[0m\u001b[0mf0\u001b[0m\u001b[1;33m>\u001b[0m\u001b[1;36m0\u001b[0m\u001b[1;33m)\u001b[0m \u001b[1;32mand\u001b[0m \u001b[1;33m(\u001b[0m\u001b[0mf0error\u001b[0m\u001b[1;33m<\u001b[0m\u001b[0mef0max\u001b[0m\u001b[1;33m)\u001b[0m\u001b[1;33m:\u001b[0m                  \u001b[1;31m# accept and return f0 if below max error allowed\u001b[0m\u001b[1;33m\u001b[0m\u001b[1;33m\u001b[0m\u001b[0m\n",
      "\u001b[1;31mAttributeError\u001b[0m: module 'utilFunctions_C' has no attribute 'twm'"
     ]
    }
   ],
   "source": [
    "testcase1 = loadTestCases.load(2, 1)\n",
    "testcase2 = loadTestCases.load(2, 2)\n",
    "testcase3 = loadTestCases.load(2, 3)\n",
    "\n",
    "out1 = segmentStableNotesRegions(**testcase1['input'])\n",
    "out2 = segmentStableNotesRegions(**testcase2['input'])\n",
    "out3 = segmentStableNotesRegions(**testcase3['input'])"
   ]
  },
  {
   "cell_type": "code",
   "execution_count": null,
   "metadata": {},
   "outputs": [],
   "source": []
  }
 ],
 "metadata": {
  "kernelspec": {
   "display_name": "Python 3",
   "language": "python",
   "name": "python3"
  },
  "language_info": {
   "codemirror_mode": {
    "name": "ipython",
    "version": 3
   },
   "file_extension": ".py",
   "mimetype": "text/x-python",
   "name": "python",
   "nbconvert_exporter": "python",
   "pygments_lexer": "ipython3",
   "version": "3.7.3"
  }
 },
 "nbformat": 4,
 "nbformat_minor": 2
}
